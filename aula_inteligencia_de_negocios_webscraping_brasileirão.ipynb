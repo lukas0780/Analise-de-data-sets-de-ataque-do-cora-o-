{
  "cells": [
    {
      "cell_type": "markdown",
      "metadata": {
        "id": "view-in-github",
        "colab_type": "text"
      },
      "source": [
        "<a href=\"https://colab.research.google.com/github/lukas0780/Machine-Learning/blob/main/aula_inteligencia_de_negocios_webscraping_brasileir%C3%A3o.ipynb\" target=\"_parent\"><img src=\"https://colab.research.google.com/assets/colab-badge.svg\" alt=\"Open In Colab\"/></a>"
      ]
    },
    {
      "cell_type": "code",
      "execution_count": null,
      "metadata": {
        "colab": {
          "background_save": true
        },
        "id": "wytcuHO-0Qcg"
      },
      "outputs": [],
      "source": [
        "import pandas as pd\n",
        "import requests\n",
        "from bs4 import BeautifulSoup\n",
        "\n",
        "req = requests.get('https://www.cbf.com.br/futebol-brasileiro/competicoes/campeonato-brasileiro-serie-a')\n",
        "\n",
        "if req.status_code == 200:\n",
        "  print('Requisicao ok!')\n",
        "  content = req.content\n",
        "#conteudo HTML\n",
        "soup = BeautifulSoup(content, 'html.parser')\n",
        "\n",
        "table = soup.find(name='table')\n",
        "\n",
        "table_str = str(table)\n",
        "df = pd.read_html(table_str)[0]\n",
        "\n",
        "table = soup.find(name='table')\n",
        "\n"
      ]
    },
    {
      "cell_type": "code",
      "execution_count": null,
      "metadata": {
        "id": "xhUIhm8wZYX-"
      },
      "outputs": [],
      "source": []
    },
    {
      "cell_type": "code",
      "execution_count": null,
      "metadata": {
        "id": "h_5HTybh7d9M"
      },
      "outputs": [],
      "source": [
        "def find_stats(base_url, ano_inicio, ano_fim):\n",
        "  years = range(ano_inicio, ano_fim+1,1)\n",
        "  final_df = pd.DataFrame()\n",
        "\n",
        "  for year in years:\n",
        "    print('Extraindo o ano {}'.format(year))\n",
        "    req_url = base_url.format(year)\n",
        "    req = requests.get(req_url)\n",
        "    soup = BeautifulSoup(req.content, 'html.parser')\n",
        "    table = soup.find(name='table')\n",
        "    df = pd.read_html(str(table))[0]\n",
        "    df['Year'] = year\n",
        "    final_df = final_df.append(df)\n",
        "  return final_df\n",
        "\n",
        "\n",
        "url = 'https://www.cbf.com.br/futebol-brasileiro/competicoes/campeonato-brasileiro-serie-a/{}'\n",
        "df = find_stats(url,2012, 2021)"
      ]
    },
    {
      "cell_type": "code",
      "execution_count": null,
      "metadata": {
        "id": "Wm2zSyc1XuSd"
      },
      "outputs": [],
      "source": [
        "print(df)"
      ]
    },
    {
      "cell_type": "code",
      "execution_count": null,
      "metadata": {
        "id": "eKK5dIaAXv3i"
      },
      "outputs": [],
      "source": [
        "df.info()"
      ]
    },
    {
      "cell_type": "code",
      "execution_count": null,
      "metadata": {
        "id": "ncqfe3Luv3KZ"
      },
      "outputs": [],
      "source": [
        "df.rename(columns={'PTS': 'Pontos'}, inplace = True)\n",
        "df.rename(columns={'V': 'Vitorias'}, inplace = True)\n",
        "df.rename(columns={'E': 'Empates'}, inplace = True)\n",
        "df.rename(columns={'D': 'Derrotas'}, inplace = True)\n",
        "df.rename(columns={'SG': 'SaldosGols'}, inplace = True)\n",
        "\n"
      ]
    },
    {
      "cell_type": "code",
      "execution_count": null,
      "metadata": {
        "id": "_6MhMscV2qM3"
      },
      "outputs": [],
      "source": [
        "df.rename(columns={'J': 'Jogos'}, inplace = True)\n",
        "\n"
      ]
    },
    {
      "cell_type": "code",
      "execution_count": null,
      "metadata": {
        "id": "OriSCxMF3Ixo"
      },
      "outputs": [],
      "source": [
        "print(df)"
      ]
    },
    {
      "cell_type": "code",
      "execution_count": null,
      "metadata": {
        "id": "47NuyuIp3Kpt"
      },
      "outputs": [],
      "source": [
        "\n",
        "df.drop(columns=['Próx'],inplace = True)"
      ]
    },
    {
      "cell_type": "code",
      "execution_count": null,
      "metadata": {
        "id": "wMvPWlnI4jrd"
      },
      "outputs": [],
      "source": [
        "df.to_excel('Brasileirão.xlsx', index = False)"
      ]
    },
    {
      "cell_type": "code",
      "execution_count": null,
      "metadata": {
        "id": "RtqYHYOzdo74"
      },
      "outputs": [],
      "source": [
        "import pandas as pd\n",
        "import requests\n",
        "from bs4 import BeautifulSoup\n",
        "\n",
        "req = requests.get('https://vaptvupt.go.gov.br/unidades')\n",
        "\n",
        "if req.status_code == 200:\n",
        "  print('Requisicao ok!')\n",
        "  content = req.content\n",
        "#conteudo HTML\n",
        "soup = BeautifulSoup(content, 'html.parser')\n",
        "\n",
        "table = soup.find(name='table')\n",
        "\n",
        "table_str = str(table)\n",
        "df = pd.read_html(table_str)[0]\n",
        "\n",
        "table = soup.find(name='table')\n"
      ]
    },
    {
      "cell_type": "code",
      "execution_count": null,
      "metadata": {
        "colab": {
          "base_uri": "https://localhost:8080/"
        },
        "id": "Kbix5kW8ZZ4a",
        "outputId": "4dda66ef-3365-4c64-c7af-7fa42376dd2b"
      },
      "outputs": [
        {
          "name": "stdout",
          "output_type": "stream",
          "text": [
            "Requisicao ok!\n"
          ]
        }
      ],
      "source": [
        "import pandas as pd\n",
        "import requests\n",
        "from bs4 import BeautifulSoup\n",
        "\n",
        "req = requests.get('https://www.canalrural.com.br/cotacao/soja/')\n",
        "\n",
        "if req.status_code == 200:\n",
        "  print('Requisicao ok!')\n",
        "  content = req.content\n",
        "#conteudo HTML\n",
        "soup = BeautifulSoup(content, 'html.parser')\n",
        "\n",
        "table = soup.find(name='table')\n",
        "\n",
        "table_str = str(table)\n",
        "df = pd.read_html(table_str)[0]\n",
        "\n",
        "table = soup.find(name='table')"
      ]
    },
    {
      "cell_type": "code",
      "execution_count": null,
      "metadata": {
        "colab": {
          "base_uri": "https://localhost:8080/"
        },
        "id": "B620O8u-ZhCj",
        "outputId": "ca62bd00-c63a-42e8-960a-2ae56c0ed86e"
      },
      "outputs": [
        {
          "name": "stdout",
          "output_type": "stream",
          "text": [
            "Extraindo o ano 2022\n"
          ]
        }
      ],
      "source": [
        "def find_stats(base_url, ano_inicio, ano_fim):\n",
        "  years = range(ano_inicio, ano_fim+1,1)\n",
        "  final_df = pd.DataFrame()\n",
        "\n",
        "  for year in years:\n",
        "    print('Extraindo o ano {}'.format(year))\n",
        "    req_url = base_url.format(year)\n",
        "    req = requests.get(req_url)\n",
        "    soup = BeautifulSoup(req.content, 'html.parser')\n",
        "    table = soup.find(name='table')\n",
        "    df = pd.read_html(str(table))[0]\n",
        "    final_df = final_df.append(df)\n",
        "  return final_df\n",
        "\n",
        "\n",
        "url = 'https://www.canalrural.com.br/cotacao/soja/{}'\n",
        "df = find_stats(url,2022, 2022)"
      ]
    },
    {
      "cell_type": "code",
      "execution_count": null,
      "metadata": {
        "colab": {
          "base_uri": "https://localhost:8080/"
        },
        "id": "xHk44ou0ak_4",
        "outputId": "902bbddb-e078-460e-ecfa-ab0394ab6665"
      },
      "outputs": [
        {
          "name": "stdout",
          "output_type": "stream",
          "text": [
            "  Soja (em R$/ 60 kg)  Preço\n",
            "0         Balsas (MA)  170.5\n",
            "1       Cascavel (PR)  186.5\n",
            "2       Dourados (MS)  179.0\n",
            "3    Passo Fundo (RS)  190.0\n",
            "4   Rondonópólis (MT)  177.0\n",
            "5      Rio Verde (GO)  173.0\n",
            "6      Bebedouro (SP)  188.0\n",
            "7   Pedro Afonso (TO)  173.0\n"
          ]
        }
      ],
      "source": [
        "print(df)"
      ]
    },
    {
      "cell_type": "code",
      "execution_count": null,
      "metadata": {
        "id": "_0gBVdxZazSQ"
      },
      "outputs": [],
      "source": [
        "df.to_excel('saida1.xlsx', index = False)"
      ]
    },
    {
      "cell_type": "code",
      "execution_count": null,
      "metadata": {
        "id": "LHffD-g8dmWc"
      },
      "outputs": [],
      "source": [
        "set_index()"
      ]
    },
    {
      "cell_type": "code",
      "execution_count": null,
      "metadata": {
        "id": "beijRF5acLdM"
      },
      "outputs": [],
      "source": [
        "import matplotlib.pyplot as plt"
      ]
    },
    {
      "cell_type": "code",
      "execution_count": null,
      "metadata": {
        "colab": {
          "base_uri": "https://localhost:8080/",
          "height": 380
        },
        "id": "NpjW2aRbcMY5",
        "outputId": "3b9a8220-b4dd-4946-f101-fc5aa6b8dc41"
      },
      "outputs": [
        {
          "data": {
            "text/plain": [
              "<matplotlib.axes._subplots.AxesSubplot at 0x7f1b7c264550>"
            ]
          },
          "execution_count": 26,
          "metadata": {},
          "output_type": "execute_result"
        },
        {
          "data": {
            "image/png": "[encoded data removed]",
            "text/plain": [
              "<Figure size 432x288 with 1 Axes>"
            ]
          },
          "metadata": {},
          "output_type": "display_data"
        }
      ],
      "source": [
        "df.plot(x=\"Soja (em R$/ 60 kg)\", y=\"Preço\", kind=\"bar\")"
      ]
    }
  ],
  "metadata": {
    "colab": {
      "provenance": [],
      "authorship_tag": "ABX9TyMvVBvSzN8CxaG6LsPPKERP",
      "include_colab_link": true
    },
    "kernelspec": {
      "display_name": "Python 3",
      "name": "python3"
    },
    "language_info": {
      "name": "python"
    }
  },
  "nbformat": 4,
  "nbformat_minor": 0
}